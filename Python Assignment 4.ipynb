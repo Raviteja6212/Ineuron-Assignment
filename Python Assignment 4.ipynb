{
 "cells": [
  {
   "cell_type": "markdown",
   "metadata": {},
   "source": [
    "## Python Assignment 4"
   ]
  },
  {
   "cell_type": "markdown",
   "metadata": {},
   "source": [
    "### Question 1.1"
   ]
  },
  {
   "cell_type": "code",
   "execution_count": 29,
   "metadata": {},
   "outputs": [
    {
     "name": "stdout",
     "output_type": "stream",
     "text": [
      "Enter length of side x: 3\n",
      "Enter lenght of side y: 4\n",
      "Enter length of side z: 5\n",
      "Area of triangle 6.0\n"
     ]
    }
   ],
   "source": [
    "class lengths:\n",
    "    def __init__(self):\n",
    "            self.x = float(input('Enter length of side x: '))\n",
    "            self.y = float(input('Enter lenght of side y: '))\n",
    "            self.z = float(input('Enter length of side z: '))\n",
    "            \n",
    "class area(lengths):\n",
    "    def area_tri(self): \n",
    "        s = (self.x + self.y + self.z) / 2\n",
    "        print('Area of triangle',((s*(s-self.x)*(s-self.y)*(s-self.z))**0.5))\n",
    "        \n",
    "test = area()\n",
    "test.area_tri()"
   ]
  },
  {
   "cell_type": "markdown",
   "metadata": {},
   "source": [
    "### Question 1.2"
   ]
  },
  {
   "cell_type": "code",
   "execution_count": 38,
   "metadata": {},
   "outputs": [
    {
     "data": {
      "text/plain": [
       "['ineuron', 'classes', 'excellent', 'sudhanshu']"
      ]
     },
     "execution_count": 38,
     "metadata": {},
     "output_type": "execute_result"
    }
   ],
   "source": [
    "def filter_long_words(li,n):\n",
    "    new = []\n",
    "    for i in li:\n",
    "        if len(i)>n:\n",
    "            new.append(i)\n",
    "    return new\n",
    "\n",
    "li= ['ineuron', 'classes', 'are', 'excellent', 'by', 'sudhanshu', 'sir']\n",
    "filter_long_words(li,5)\n"
   ]
  },
  {
   "cell_type": "markdown",
   "metadata": {},
   "source": [
    "### Question 2.1"
   ]
  },
  {
   "cell_type": "code",
   "execution_count": 36,
   "metadata": {},
   "outputs": [
    {
     "data": {
      "text/plain": [
       "[2, 3, 4]"
      ]
     },
     "execution_count": 36,
     "metadata": {},
     "output_type": "execute_result"
    }
   ],
   "source": [
    "def word_len(li):\n",
    "        return len(li)\n",
    "li=['ab','cde','erty']\n",
    "new_li = map(word_len,li)# map automatically sends one by one to the function\n",
    "list(new_li) # and map always returns map objects. so, must convert it to list."
   ]
  },
  {
   "cell_type": "markdown",
   "metadata": {},
   "source": [
    "### Question 2.2 "
   ]
  },
  {
   "cell_type": "code",
   "execution_count": 54,
   "metadata": {},
   "outputs": [
    {
     "name": "stdout",
     "output_type": "stream",
     "text": [
      "Enter a character: d\n"
     ]
    },
    {
     "data": {
      "text/plain": [
       "False"
      ]
     },
     "execution_count": 54,
     "metadata": {},
     "output_type": "execute_result"
    }
   ],
   "source": [
    "vowels = ['a','e','i','o','u']\n",
    "x = input('Enter a character: ')\n",
    "def no_vowels(x):\n",
    "    for j in vowels:\n",
    "            if x == j:\n",
    "                return True \n",
    "            else:\n",
    "                return False\n",
    "li = no_vowels(x)\n",
    "li"
   ]
  },
  {
   "cell_type": "code",
   "execution_count": null,
   "metadata": {},
   "outputs": [],
   "source": []
  }
 ],
 "metadata": {
  "kernelspec": {
   "display_name": "Python 3",
   "language": "python",
   "name": "python3"
  },
  "language_info": {
   "codemirror_mode": {
    "name": "ipython",
    "version": 3
   },
   "file_extension": ".py",
   "mimetype": "text/x-python",
   "name": "python",
   "nbconvert_exporter": "python",
   "pygments_lexer": "ipython3",
   "version": "3.7.6"
  }
 },
 "nbformat": 4,
 "nbformat_minor": 4
}
